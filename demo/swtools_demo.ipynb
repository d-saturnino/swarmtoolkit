{
 "cells": [
  {
   "cell_type": "markdown",
   "metadata": {},
   "source": [
    "# Demo\n",
    "\n",
    "Some examples below are shown to showcase some of the functionality of ``swtools``. \n",
    "\n",
    "1) [*Basic functionality*](#basic)\n",
    "  * [Help](#help)\n",
    "  * [Extract parameter from file(s)](#extract)\n",
    "  * [Modify parameter](#modify)\n",
    "  * [Quick introspection](#introspection)\n",
    "  * [Plot parameter(s)](#plot)\n",
    "  * [Unzip file and extract contents](#unzip)\n",
    "\n",
    "2) [*FTP-server*](#FTP)\n",
    "  * [Download file(s) from ftp server and extract contents](#download)\n",
    "  * [Filter ftp-server vs. interactive selection](#filter-inter)\n",
    "\n",
    "3) [*Delay of parameter*](#delay) \n",
    "  * [Shift a parameter wrt. time](#shift)\n",
    "  * [Align two parameters wrt. time](#align)\n",
    "\n",
    "4) [*Visualization*](#Visualization)\n",
    "\n",
    "5) [*Spherical harmonics*](#harmonics)\n",
    "\n",
    "6) [*Miscellaneous*](#misc)\n",
    "  * [Fourier transform](#fourier)\n",
    "  * [Read sp3 files](#sp3)\n",
    "  * [EFI provisional](#provisional)\n",
    "  * [Parameter](#parameter)\n",
    "\n",
    "<!--\n",
    "## [Test use cases (Visualization)](#vis)\n",
    "\n",
    "1. Plots of $F(t)$, $B_{VFM}(t)$ & spectras of same quantity\n",
    "2. Geographical plots of ACC & ACC time series\n",
    "3. Plots of FAC\n",
    "4. Geographical plots of LP $n_e(\\texttt{lat,long})\\,$ or $\\,n_e(\\texttt{lat,t})$\n",
    "5. Plots of spherical harmonic models \n",
    "-->"
   ]
  },
  {
   "cell_type": "markdown",
   "metadata": {},
   "source": [
    "<a id=\"basic\">"
   ]
  },
  {
   "cell_type": "markdown",
   "metadata": {},
   "source": [
    "## Basic functionality"
   ]
  },
  {
   "cell_type": "code",
   "execution_count": null,
   "metadata": {
    "collapsed": false
   },
   "outputs": [],
   "source": [
    "%matplotlib inline \n",
    "import swtools\n",
    "import numpy as np\n",
    "import matplotlib.pyplot as plt"
   ]
  },
  {
   "cell_type": "markdown",
   "metadata": {},
   "source": [
    "</a><a id=\"help\"></a>"
   ]
  },
  {
   "cell_type": "markdown",
   "metadata": {},
   "source": [
    "### Help"
   ]
  },
  {
   "cell_type": "code",
   "execution_count": null,
   "metadata": {
    "collapsed": false
   },
   "outputs": [],
   "source": [
    "#using the built-in help function:\n",
    "help(swtools.getCDFparams)"
   ]
  },
  {
   "cell_type": "code",
   "execution_count": null,
   "metadata": {
    "collapsed": true
   },
   "outputs": [],
   "source": [
    "#if using ipython or the jupyter notebook you can also use:\n",
    "swtools.getCDFlist?"
   ]
  },
  {
   "cell_type": "code",
   "execution_count": null,
   "metadata": {
    "collapsed": false
   },
   "outputs": [],
   "source": [
    "#to find names of functions in the jupyter notebook one can tab(to auto-complete)\n",
    "#swtools. #tab to find avalable functions and submodules"
   ]
  },
  {
   "cell_type": "markdown",
   "metadata": {},
   "source": [
    "<a id='extract'></a>"
   ]
  },
  {
   "cell_type": "code",
   "execution_count": null,
   "metadata": {
    "collapsed": false
   },
   "outputs": [],
   "source": [
    "#change this to target your sample data directory\n",
    "sample_loc = \"sample_files/\"\n",
    "\n",
    "#cleanup of directory:\n",
    "import os\n",
    "with open(os.path.join(sample_loc,'sample_files.txt'),'r') as f:\n",
    "    samplefiles=[line.strip() for line in f]\n",
    "    for fn in os.listdir(sample_loc):\n",
    "        if fn not in samplefiles:\n",
    "            f_del = os.path.join(sample_loc,fn)\n",
    "            if os.path.isfile(f_del):\n",
    "                print('Removing {}'.format(f_del))\n",
    "                os.remove(f_del)"
   ]
  },
  {
   "cell_type": "markdown",
   "metadata": {},
   "source": [
    "### Extract parameter from file(s)"
   ]
  },
  {
   "cell_type": "code",
   "execution_count": null,
   "metadata": {
    "collapsed": false,
    "scrolled": true
   },
   "outputs": [],
   "source": [
    "#check content of directory:\n",
    "%ls sample_files/"
   ]
  },
  {
   "cell_type": "code",
   "execution_count": null,
   "metadata": {
    "collapsed": false
   },
   "outputs": [],
   "source": [
    "\n",
    "\n",
    "\n",
    "#a cdf file with the EEF product\n",
    "filepath_EEF_1 = os.path.join(sample_loc,'SW_OPER_EEFATMS_2F_20151101T002034_20151101T221233_0101.DBL') \n",
    "filepath_EEF_2 = os.path.join(sample_loc,'SW_OPER_EEFATMS_2F_20151101T234509_20151102T230946_0101.DBL')\n",
    "\n",
    "#get EEF and timestamp parameter from file\n",
    "EEF_1v,EEF_1t,EEF_1lon,EEF_1lat = swtools.getCDFparams(\n",
    "    filepath_EEF_1,'EEF','Timestamp','longitude','latitude') \n",
    "print('Parameter: {}, units: {}\\nValues:\\n{}'\n",
    "      .format(EEF_1v.name,EEF_1v.unit,EEF_1v.values),end='\\n\\n')\n",
    "print('Parameter: {}, units: {}\\n(some) Values:\\n{}'\n",
    "      .format(EEF_1t.name,EEF_1t.unit,EEF_1t.values[::3]))"
   ]
  },
  {
   "cell_type": "code",
   "execution_count": null,
   "metadata": {
    "collapsed": false
   },
   "outputs": [],
   "source": [
    "#Filepaths could also be fetched using:\n",
    "filepaths=swtools.getCDFlist(sample_loc) #get list of cdf files in given path\n",
    "\n",
    "#extract data from both files, concatenate output \n",
    "EEF_v = swtools.getCDFparams(filepaths,'EEF') \n",
    "print('Parameter: {}, units: {}\\nValues:\\n{}'\n",
    "      .format(EEF_v.name,EEF_v.unit,EEF_v.values),end='\\n\\n')\n"
   ]
  },
  {
   "cell_type": "markdown",
   "metadata": {},
   "source": [
    "These functions by default do not evaluate zip files unless there are no cdf files available or the keyword argument `includezip=True` is passed.\n",
    "If `getCDFparams` is passed with `cat=False`, values will be a list of `numpy.ndarrays`."
   ]
  },
  {
   "cell_type": "code",
   "execution_count": null,
   "metadata": {
    "collapsed": false
   },
   "outputs": [],
   "source": [
    "EEF_v_no_cat,EEF_t_no_cat = swtools.getCDFparams(filepaths,'EEF','Timestamp',cat=False)\n",
    "print(EEF_v_no_cat.values[0],'\\n\\n',EEF_v_no_cat.values[1])"
   ]
  },
  {
   "cell_type": "markdown",
   "metadata": {},
   "source": [
    "<a id='modify'></a>"
   ]
  },
  {
   "cell_type": "markdown",
   "metadata": {},
   "source": [
    "### Modify parameter\n",
    "The `values`-attribute is a `numpy.ndarray`, and can thus be freely manipulated."
   ]
  },
  {
   "cell_type": "code",
   "execution_count": null,
   "metadata": {
    "collapsed": false
   },
   "outputs": [],
   "source": [
    "from numpy import sqrt,sin,log\n",
    "\n",
    "#mathematical operations performed on the EEF array\n",
    "derived_value=log(sqrt(sin(1/EEF_v.values)+1.5))**5\n",
    "print(derived_value,sum(derived_value))\n",
    "\n",
    "#cut of last value:\n",
    "EEF_v_no_cat.values[1] = EEF_v_no_cat.values[1][:len(EEF_v_no_cat.values[0])]\n",
    "EEF_t_no_cat.values[1] = EEF_t_no_cat.values[1][:len(EEF_t_no_cat.values[0])]\n",
    "print(len(EEF_v_no_cat.values[1]))"
   ]
  },
  {
   "cell_type": "markdown",
   "metadata": {},
   "source": [
    "<a id='introspection'></a>"
   ]
  },
  {
   "cell_type": "markdown",
   "metadata": {},
   "source": [
    "### Quick introspection\n",
    "#### of parameter names\n",
    "One can quickly look at the parameter names of a cdf file (or several files simultaneously):"
   ]
  },
  {
   "cell_type": "code",
   "execution_count": null,
   "metadata": {
    "collapsed": false,
    "scrolled": true
   },
   "outputs": [],
   "source": [
    "swtools.getCDFparamlist(filepaths)\n"
   ]
  },
  {
   "cell_type": "markdown",
   "metadata": {},
   "source": [
    "Only one file will be shown for every unique product (based on filename).\n",
    "\n",
    "#### of parameter values\n",
    "`param_peek` can be used to get a quick idea of the content within either a parameter in a file or an array. Note that it behaves differently depending on the dimension of the values. This only works if the parameter is represented by floats (eg. not `datetime.datetime` objects)"
   ]
  },
  {
   "cell_type": "code",
   "execution_count": null,
   "metadata": {
    "collapsed": false
   },
   "outputs": [],
   "source": [
    "#from filename\n",
    "swtools.param_peek(filepath_EEF_1,'EEF')"
   ]
  },
  {
   "cell_type": "code",
   "execution_count": null,
   "metadata": {
    "collapsed": false
   },
   "outputs": [],
   "source": [
    "EEF_v_no_cat()"
   ]
  },
  {
   "cell_type": "code",
   "execution_count": null,
   "metadata": {
    "collapsed": false,
    "scrolled": true
   },
   "outputs": [],
   "source": [
    "#15x2 array\n",
    "a=np.column_stack((EEF_v_no_cat.values[0][:-1],EEF_v_no_cat.values[1]))\n",
    "swtools.param_peek(a,axis=1)"
   ]
  },
  {
   "cell_type": "markdown",
   "metadata": {},
   "source": [
    "#### of discontinuities in values"
   ]
  },
  {
   "cell_type": "code",
   "execution_count": null,
   "metadata": {
    "collapsed": false
   },
   "outputs": [],
   "source": [
    "#find jumps in values:\n",
    "\n",
    "#jump larger than difference between 25th and 75 percentile\n",
    "jumps_pcnt=swtools.where_diff(a[:,0])\n",
    "\n",
    "#relative difference of 50%\n",
    "jumps_rtol=swtools.where_diff(a[:,0],rtol=0.5)\n",
    "\n",
    "#absolute difference\n",
    "jumps_atol=swtools.where_diff(a[:,0],atol=0.0004)\n",
    "\n",
    "#abs_tol ∩ rel_tol\n",
    "jumps_comb=swtools.where_diff(a[:,0],atol=0.0004,rtol=0.5)\n",
    "\n",
    "print(jumps_pcnt,a[jumps_pcnt,0])\n",
    "print(jumps_rtol,a[jumps_rtol,0])\n",
    "print(jumps_atol,a[jumps_atol,0])\n",
    "print(jumps_comb,a[jumps_comb,0])"
   ]
  },
  {
   "cell_type": "markdown",
   "metadata": {},
   "source": [
    "<a id='plot'></a>"
   ]
  },
  {
   "cell_type": "markdown",
   "metadata": {},
   "source": [
    "### Plot parameter(s)"
   ]
  },
  {
   "cell_type": "code",
   "execution_count": null,
   "metadata": {
    "collapsed": false,
    "scrolled": true
   },
   "outputs": [],
   "source": [
    "fig,ax=swtools.plot_basic(EEF_t_no_cat.values[0],EEF_v_no_cat.values[0],\n",
    "                          EEF_t_no_cat.values[1],EEF_v_no_cat.values[1],\n",
    "                          legends=[EEF_1v.name+'1',EEF_1v.name+'2'])\n"
   ]
  },
  {
   "cell_type": "code",
   "execution_count": null,
   "metadata": {
    "collapsed": false
   },
   "outputs": [],
   "source": [
    "#plot EEF(t) and longitude(t) with own unique y-axis\n",
    "fig,ax1=swtools.plot_basic(EEF_1t.values,EEF_1v.values,\n",
    "                           legends=[EEF_1v.name],lhide=True)\n",
    "ax2=swtools.plot_twinx(EEF_1t.values,EEF_1lon.values,ax=ax1,\n",
    "                       legends=[EEF_1lon.name])\n"
   ]
  },
  {
   "cell_type": "markdown",
   "metadata": {},
   "source": [
    "<a id='unzip'></a>"
   ]
  },
  {
   "cell_type": "code",
   "execution_count": null,
   "metadata": {
    "collapsed": false
   },
   "outputs": [],
   "source": [
    "#plot EEF(t) and longitude(t) with own unique y-axis and legend position:\n",
    "fig,ax1=swtools.plot_basic(EEF_1t.values,EEF_1v.values,\n",
    "                           legends=[EEF_1v.name,'a'],lloc='lower left')\n",
    "ax2=swtools.plot_twinx(EEF_1t.values,EEF_1lon.values,ax=ax1,\n",
    "                       legends=[EEF_1lon.name],lall=False)\n"
   ]
  },
  {
   "cell_type": "markdown",
   "metadata": {},
   "source": [
    "### Unzip file and extract contents\n",
    "To unzip a cdf file and extract parameter from file, simply use the same syntax as for a normal file. Additionally, one can store the cdf temporarily by specifying `temp=True`:"
   ]
  },
  {
   "cell_type": "code",
   "execution_count": null,
   "metadata": {
    "collapsed": false
   },
   "outputs": [],
   "source": [
    "#include zipfile in search for cdf files- unzip it in temporary storage, \n",
    "#then filter files based on satelite and within time range based on filename\n",
    "filepaths_w_zip=swtools.getCDFlist(sample_loc,includezip=True,temp=True,\n",
    "                                   sat='A',start_t='20150901',end_t='20151001')"
   ]
  },
  {
   "cell_type": "code",
   "execution_count": null,
   "metadata": {
    "collapsed": false
   },
   "outputs": [],
   "source": [
    "filepaths_w_zip"
   ]
  },
  {
   "cell_type": "code",
   "execution_count": null,
   "metadata": {
    "collapsed": false
   },
   "outputs": [],
   "source": [
    "EEF_zip=swtools.getCDFparams(\n",
    "    os.path.join(sample_loc,'SW_OPER_EEFATMS_2F_20150924T010219_20150924T225420_0101.ZIP'),\n",
    "    'EEF',temp=True)"
   ]
  },
  {
   "cell_type": "markdown",
   "metadata": {},
   "source": [
    "<a id='FTP'></a><a id=\"download\"></a>"
   ]
  },
  {
   "cell_type": "markdown",
   "metadata": {},
   "source": [
    "## FTP-server\n",
    "### Download file(s) from ftp server and extract contents\n",
    "Extracting from ftp server follows same syntax. output location is by default the current working directory, by may be specified. `filter_param` will ensure that only folders where the parameter is presumed to be will be checked (as of `swtools 1.0.2` only main `MAG`, `EFI`, `IBI`, `FAC`, `TEC` and `EEF` products are supported for filtering, and only for the dissemination server `swarm-diss.eo.esa.int`):\n",
    "\n",
    "**NOTE: If experiencing difficulties connecting to the dissemination server from a secure ESA network, the problem may be resolved by adding `use_passive_mode=False` and possibly also temporarily deactivating your firewall.**"
   ]
  },
  {
   "cell_type": "code",
   "execution_count": null,
   "metadata": {
    "collapsed": false
   },
   "outputs": [],
   "source": [
    "url,user,pw='swarm-diss.eo.esa.int/','myuser','mypw'\n",
    "#get files with parameter 'n'(ie. EFI product) from satellite B, \n",
    "#within two days after 1.9.2015, download to current directory\n",
    "swtools.getCDFparams(url+'Level1b/','n',user=user,pw=pw,outloc=sample_loc,\n",
    "                     filter_param=True,sat='B',start_t='20150901',duration=2)"
   ]
  },
  {
   "cell_type": "markdown",
   "metadata": {},
   "source": [
    "<a id='filter'></a>"
   ]
  },
  {
   "cell_type": "markdown",
   "metadata": {},
   "source": [
    "### Filter ftp-server vs. interactive selection\n",
    "In the above example no interaction is needed, as everything is specified.\n",
    "If not all filters are used, the user can select files/directories interactively:"
   ]
  },
  {
   "cell_type": "code",
   "execution_count": null,
   "metadata": {
    "collapsed": false,
    "scrolled": false
   },
   "outputs": [],
   "source": [
    "#look for products from satellite B  with parameter 'timestamp'\n",
    "swtools.getCDFparams(url,'Timestamp',user=user,pw=pw,outloc=sample_loc,sat='B') "
   ]
  },
  {
   "cell_type": "markdown",
   "metadata": {},
   "source": [
    "<a id='delay'></a>"
   ]
  },
  {
   "cell_type": "markdown",
   "metadata": {},
   "source": [
    "## Delay of parameter\n",
    "### Shift a parameter wrt. time"
   ]
  },
  {
   "cell_type": "code",
   "execution_count": null,
   "metadata": {
    "collapsed": false
   },
   "outputs": [],
   "source": [
    "#shift a parameter with respect to itself 10000s(for illustration purposes)\n",
    "eef1,eef2,eeft1,eeft2=swtools.shift_param(\n",
    "    EEF_1v.values,EEF_1v.values,EEF_1t.values,EEF_1t.values,delta_t=3000,k=1)\n",
    "fig,ax=swtools.plot_basic(eeft1,eef1,eeft2,eef2,legends=['shifted','original'])\n"
   ]
  },
  {
   "cell_type": "markdown",
   "metadata": {},
   "source": [
    "It is also possible to make the function shift into a best fit using `auto=True`."
   ]
  },
  {
   "cell_type": "code",
   "execution_count": null,
   "metadata": {
    "collapsed": false
   },
   "outputs": [],
   "source": [
    "#Shift to best fit (which should shift eef1 back to initial position), and\n",
    "#find the \"unknown\" shift assumed to be +-10000s from present position. \n",
    "#`ext=0` due to large errors, so the solver starts to try to extrapolate \n",
    "#otherwise\n",
    "eef1_,eef2_,eeft1_,eeft2_=swtools.shift_param(eef1,eef2,eeft1,eeft2,\n",
    "                                              dt_lim=[-10000,10000],\n",
    "                                              auto=True,ext=0)"
   ]
  },
  {
   "cell_type": "markdown",
   "metadata": {},
   "source": [
    "Here due to using very few points(EEF has ~15 values/day) the error is large, and interpolation poor, and a warning is shown; but the original value was approximately regained. More detailed output can be gained from `v=2` and `show=True`:"
   ]
  },
  {
   "cell_type": "code",
   "execution_count": null,
   "metadata": {
    "collapsed": false
   },
   "outputs": [],
   "source": [
    "eef1_,eef2_,eeft1_,eeft2_=swtools.shift_param(\n",
    "    eef1,eef2,eeft1,eeft2,dt_lim=[-10000,10000],\n",
    "    auto=True,ext=0,v=2,show=True)"
   ]
  },
  {
   "cell_type": "markdown",
   "metadata": {},
   "source": [
    "<a id='align'></a>"
   ]
  },
  {
   "cell_type": "code",
   "execution_count": null,
   "metadata": {
    "collapsed": false
   },
   "outputs": [],
   "source": [
    "#best fit:\n",
    "swtools.plot_basic(eeft1_,eef1_,eeft2_,eef2_,legends=['shift to best fit','original'])"
   ]
  },
  {
   "cell_type": "markdown",
   "metadata": {},
   "source": [
    "### Align two parameters wrt. time\n",
    "If we want to plot to parameters with different frequencies together(downsample one of them), we can use `align_param`:"
   ]
  },
  {
   "cell_type": "code",
   "execution_count": null,
   "metadata": {
    "collapsed": false
   },
   "outputs": [],
   "source": [
    "#plot shifted values, where one has half the frequency of the other:\n",
    "eef1_a,eef2_a,eeft=swtools.align_param(eef1[::2],eef2,eeft1[::2],eeft2)\n",
    "swtools.plot_basic(eeft,eef1_a,eeft,eef2_a)\n",
    "\n",
    "#one could use plot_align(eef1[::2],eef2,eeft1[::2],eeft2) \n",
    "#if not interested in the output values(only the visualization)"
   ]
  },
  {
   "cell_type": "markdown",
   "metadata": {},
   "source": [
    "<a id='visualization'></a>"
   ]
  },
  {
   "cell_type": "markdown",
   "metadata": {},
   "source": [
    "## Visualization\n",
    "Visualize on the globe"
   ]
  },
  {
   "cell_type": "code",
   "execution_count": null,
   "metadata": {
    "collapsed": false
   },
   "outputs": [],
   "source": [
    "#plain scatter plot with no background\n",
    "fig,ax=swtools.plot_scatter(EEF_1lon.values,EEF_1lat.values,EEF_1v.values,\n",
    "                            s=300,figsize=(12,12))\n",
    "ax.set_xlim([-180,180])"
   ]
  },
  {
   "cell_type": "code",
   "execution_count": null,
   "metadata": {
    "collapsed": false
   },
   "outputs": [],
   "source": [
    "#scatter on hammer projection centered on longitude=90\n",
    "swtools.plot_geo(EEF_1lon.values,EEF_1lat.values,EEF_1v.values,\n",
    "                 s=300,projection='hammer',lon_0=90,figsize=(12,12))"
   ]
  },
  {
   "cell_type": "code",
   "execution_count": null,
   "metadata": {
    "collapsed": false
   },
   "outputs": [],
   "source": [
    "#Orthographic projection centered on (50° N,10° E) using dark map, \n",
    "#no colorbar and a figure size of 12x12 inches\n",
    "swtools.plot_geo(EEF_1lon.values,EEF_1lat.values,EEF_1v.values,\n",
    "                 s=1500,lon_0=10,lat_0=50,projection='ortho',\n",
    "                 dark_map=True,cbar=False,figsize=(12,12))"
   ]
  },
  {
   "cell_type": "code",
   "execution_count": null,
   "metadata": {
    "collapsed": false
   },
   "outputs": [],
   "source": [
    "#need 2d array for colormesh, so here I just stack the EEF values on top of eachother, \n",
    "#essentially losing the latitude information.\n",
    "EEF_band=np.column_stack([EEF_1v.values]*15).T\n",
    "#colormesh on South-Polar Azimuthal Equidistant projection, \n",
    "#with the equator as bounding latitude\n",
    "swtools.plot_geo(EEF_1lon.values,EEF_1lat.values,EEF_band,\n",
    "                 ptype='colormesh',latlon=True,projection='spaeqd',boundinglat=0)"
   ]
  },
  {
   "cell_type": "markdown",
   "metadata": {},
   "source": [
    "<a id='harmonics'></a>"
   ]
  },
  {
   "cell_type": "markdown",
   "metadata": {},
   "source": [
    "## Spherical harmonics "
   ]
  },
  {
   "cell_type": "code",
   "execution_count": null,
   "metadata": {
    "collapsed": false
   },
   "outputs": [],
   "source": [
    "lon,lat=np.linspace(0,360,101),np.linspace(-90,90,101)\n",
    "shc_fn=os.path.join(sample_loc+'IGRF12.shc')\n",
    "Bnec=swtools.get_Bnec(shc_fn,lat,lon,h=100)\n",
    "dBnec=swtools.get_Bnec(shc_fn,lat,lon,h=100,dB=True)\n"
   ]
  },
  {
   "cell_type": "code",
   "execution_count": null,
   "metadata": {
    "collapsed": false
   },
   "outputs": [],
   "source": [
    "time_idx=17\n",
    "dim_idx=0\n",
    "print(\"Number of time values: {}, Dimensions in B(fixed): {},\\n\"\n",
    "      .format(*Bnec.shape[:2]) + \n",
    "      \"Number of latitude values: {}, Number of longitude values: {}\"\n",
    "      .format(*Bnec.shape[2:]))\n",
    "fig,m=swtools.plot_geo(lon,lat,Bnec[time_idx][dim_idx],\n",
    "                       ptype='colormesh',latlon=True,figsize=(10,10))\n",
    "\n",
    "#can read data from shc file using `read_shc`:\n",
    "plt.title(\"$B_{}$ at time: {} in 'North-East-Center' frame\"\n",
    "          .format('NEC'[dim_idx],swtools.read_shc(shc_fn)[-1][time_idx]),fontsize=19)\n",
    "plt.show()"
   ]
  },
  {
   "cell_type": "code",
   "execution_count": null,
   "metadata": {
    "collapsed": false
   },
   "outputs": [],
   "source": [
    "#same for its derivative\n",
    "fig,m=swtools.plot_geo(lon,lat,dBnec[time_idx][dim_idx],\n",
    "                       ptype='contour',latlon=True,figsize=(10,10),\n",
    "                       linewidths=2,cbar=False)\n",
    "plt.title(\"$dB_{}$ at time: {} in 'North-East-Center' frame\"\n",
    "          .format('NEC'[dim_idx],swtools.read_shc(shc_fn)[-1][time_idx]),fontsize=19)\n",
    "plt.show()"
   ]
  },
  {
   "cell_type": "markdown",
   "metadata": {},
   "source": [
    "<a id='misc'></a><a id=\"fourier\"></a>"
   ]
  },
  {
   "cell_type": "markdown",
   "metadata": {},
   "source": [
    "## Miscellaneous\n",
    "### Fourier transform\n",
    "Fourier transforms can be performed on data:"
   ]
  },
  {
   "cell_type": "code",
   "execution_count": null,
   "metadata": {
    "collapsed": false
   },
   "outputs": [],
   "source": [
    "#Note that the input should have a fixed frequency\n",
    "#unitary fourier transform off EEF values\n",
    "fEEF,EEF_freq=swtools.fourier_transform(EEF_1v.values,EEF_1t.values,\n",
    "                                        norm='ortho')\n",
    "positive_freq=np.where(EEF_freq>0)\n",
    "fig,ax=swtools.plot_basic(EEF_freq[positive_freq]*1e6,fEEF[positive_freq])\n",
    "ax.set_xlabel('frequency[$\\mu$Hz]')\n",
    "plt.show()"
   ]
  },
  {
   "cell_type": "markdown",
   "metadata": {},
   "source": [
    "<a id='sp3'></a>"
   ]
  },
  {
   "cell_type": "markdown",
   "metadata": {},
   "source": [
    "### Read sp3 files"
   ]
  },
  {
   "cell_type": "code",
   "execution_count": null,
   "metadata": {
    "collapsed": false
   },
   "outputs": [],
   "source": [
    "#x,y,z,t,header=swtools.read_sp3('sample_kin.txt',doctype=1)#read kinetic sp3 file\n",
    "x,y,z,vx,vy,vz,dt,t,header=swtools.read_sp3(sample_loc+'sample_rd.txt')\n",
    "fig,ax=swtools.plot_basic(t,x,t,y,t,z,legends=['x','y','z'],\n",
    "                          figsize=(20,5),lhide=True,lw=2)\n",
    "ax2=swtools.plot_twinx(t,vx,t,vy,t,vz,legends=['v$_x$','v$_y$','v$_z$'],\n",
    "                       lfontsize=20,lbox=True,alpha=0.5,colors=['b','g','r'])\n",
    "ax2.set_ylabel('Velocity[m/s]')\n",
    "ax.set_ylabel('Position[m]')\n",
    "plt.show()"
   ]
  },
  {
   "cell_type": "markdown",
   "metadata": {},
   "source": [
    "<a id='provisional'></a>"
   ]
  },
  {
   "cell_type": "markdown",
   "metadata": {},
   "source": [
    "### EFI provisional\n",
    "Read the provisional EFI ascii files"
   ]
  },
  {
   "cell_type": "code",
   "execution_count": null,
   "metadata": {
    "collapsed": false
   },
   "outputs": [],
   "source": [
    "#if no parameter specified, a dictionary of all parameters are returned\n",
    "out=swtools.read_EFI_prov_txt(\n",
    "    os.path.join(sample_loc,'SW_PREL_EFIA_LP_1B_20150720T000000_20150720T235959_0103.txt'))\n",
    "print(\"Parameters available in provisional ascii file:\\n\\t\"+'\\n\\t'.join(out.keys()))\n",
    "print(\"first 5 values:\",out['n'][:5])"
   ]
  },
  {
   "cell_type": "markdown",
   "metadata": {},
   "source": [
    "<a id='parameter'></a>"
   ]
  },
  {
   "cell_type": "markdown",
   "metadata": {},
   "source": [
    "### Parameter\n",
    "When a parameter is returned from `swtools.extract_parameter` or `swtools.getCDFparams` it is an instance of the `Parameter` class."
   ]
  },
  {
   "cell_type": "code",
   "execution_count": null,
   "metadata": {
    "collapsed": false
   },
   "outputs": [],
   "source": [
    "EEF_1v"
   ]
  },
  {
   "cell_type": "code",
   "execution_count": null,
   "metadata": {
    "collapsed": false
   },
   "outputs": [],
   "source": [
    "#the instance has a `values`,`name` and `unit` attribute.\n",
    "EEF_1v.values,EEF_1v.name,EEF_1v.unit"
   ]
  },
  {
   "cell_type": "code",
   "execution_count": null,
   "metadata": {
    "collapsed": false
   },
   "outputs": [],
   "source": [
    "#values can be accessed directly:\n",
    "print(EEF_1v[:4])\n",
    "#calling is shorthand for `.values`:\n",
    "print(EEF_1v())"
   ]
  }
 ],
 "metadata": {
  "kernelspec": {
   "display_name": "Python 3",
   "language": "python",
   "name": "python3"
  },
  "language_info": {
   "codemirror_mode": {
    "name": "ipython",
    "version": 3
   },
   "file_extension": ".py",
   "mimetype": "text/x-python",
   "name": "python",
   "nbconvert_exporter": "python",
   "pygments_lexer": "ipython3",
   "version": "3.4.4"
  }
 },
 "nbformat": 4,
 "nbformat_minor": 0
}
